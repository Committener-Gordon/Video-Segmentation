{
 "cells": [
  {
   "cell_type": "code",
   "execution_count": 5,
   "metadata": {},
   "outputs": [
    {
     "name": "stdout",
     "output_type": "stream",
     "text": [
      "(21, 400, 400, 1)\n"
     ]
    }
   ],
   "source": [
    "from matplotlib import pyplot as plt\n",
    "from matplotlib import image as mpimg\n",
    "import gluoncv\n",
    "from gluoncv import model_zoo, data, utils\n",
    "import ffmpeg\n",
    "import numpy as np\n",
    "import os, sys\n",
    "import cv2\n",
    "import glob\n",
    "import re\n",
    "\n",
    "probe = ffmpeg.probe('115/681/M00001/c0img.mp4')\n",
    "video_stream = next((stream for stream in probe['streams'] if stream['codec_type'] == 'video'), None)\n",
    "width = int(video_stream['width'])\n",
    "height = int(video_stream['height'])\n",
    "\n",
    "\n",
    "out, _ = (\n",
    "    ffmpeg\n",
    "    .input('115/681/M00001/c0img.mp4')\n",
    "    .output('pipe:', format='rawvideo')\n",
    "    .run(capture_stdout=True)\n",
    ")\n",
    "video = (\n",
    "    np\n",
    "    .frombuffer(out, np.uint8)\n",
    "    .reshape([-1, height, width, 1])\n",
    ")\n",
    "\n",
    "print(np.shape(video))"
   ]
  }
 ],
 "metadata": {
  "kernelspec": {
   "display_name": "Python 3",
   "language": "python",
   "name": "python3"
  },
  "language_info": {
   "codemirror_mode": {
    "name": "ipython",
    "version": 3
   },
   "file_extension": ".py",
   "mimetype": "text/x-python",
   "name": "python",
   "nbconvert_exporter": "python",
   "pygments_lexer": "ipython3",
   "version": "3.7.0"
  }
 },
 "nbformat": 4,
 "nbformat_minor": 2
}
