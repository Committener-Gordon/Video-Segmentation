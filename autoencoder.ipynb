{
 "cells": [
  {
   "cell_type": "code",
   "execution_count": 16,
   "metadata": {
    "scrolled": true
   },
   "outputs": [],
   "source": [
    "from numpy import array\n",
    "from keras.models import Sequential\n",
    "from keras.models import Model\n",
    "from keras.layers import LSTM, Input, Conv2D, MaxPooling2D, UpSampling2D, Dense, RepeatVector, TimeDistributed, Reshape\n",
    "from keras.utils import plot_model\n",
    "from keras.optimizers import RMSprop\n",
    "import ffmpeg\n",
    "import numpy as np\n",
    "from generator import MyGenerator\n",
    "from data import Data\n",
    "\n",
    "def rgb2gray(rgb):\n",
    "    return np.dot(rgb[...,:3], [0.2989, 0.5870, 0.1140])\n",
    "\n",
    "def get_autoencoder(inputs):                             \n",
    "\n",
    "        \n",
    "    #encoder\n",
    "    conv1 = TimeDistributed(Conv2D(16, (8, 8), strides=(4,4), activation='relu', padding='same'))(inputs)\n",
    "    pool1 = TimeDistributed(MaxPooling2D(pool_size=(4, 4)))(conv1) #200 x 200 x 32\n",
    "    \n",
    "    print(pool1.shape)\n",
    "    \n",
    "    reshape = Reshape((inputs.shape[1], 10000))(pool1)\n",
    "    dense1 = TimeDistributed(Dense(100))(reshape)\n",
    "    lstm1 = LSTM(100, return_sequences=True)(dense1)\n",
    "    \n",
    "    lstm2 = LSTM(100, return_sequences=True)(lstm1)\n",
    "    dense2 = TimeDistributed(Dense(10000))(lstm2)\n",
    "    reshape2 = Reshape((-1, 100, 100, 1))(dense2)\n",
    "     \n",
    "        \n",
    "    conv5 = TimeDistributed(Conv2D(16, (8, 8), strides=(1,1), activation='relu', padding='same'))(reshape2) # 200 x 200 x 16\n",
    "    up2 = TimeDistributed(UpSampling2D((4,4)))(conv5) # 400 x 400 x 16\n",
    "    decoded = TimeDistributed(Conv2D(1, (3, 3), strides=(1,1), activation='relu', padding='same'))(up2)\n",
    "    \n",
    "    ### BIIIG NETWORK HERE!!111!\n",
    "    \n",
    "    #conv1 = TimeDistributed(Conv2D(32, (3, 3), strides=(1,1), activation='relu', padding='same'))(inputs)\n",
    "    #pool1 = TimeDistributed(MaxPooling2D(pool_size=(2, 2)))(conv1) #200 x 200 x 32\n",
    "    #conv2 = TimeDistributed(Conv2D(16, (3, 3), strides=(1,1), activation='relu', padding='same'))(pool1) #200 x 200 x 16\n",
    "    #pool2 = TimeDistributed(MaxPooling2D(pool_size=(2, 2)))(conv2) #100 x 100 x 16\n",
    "    #conv3 = TimeDistributed(Conv2D(8, (3, 3), strides=(1,1), activation='relu', padding='same'))(pool2) #100 x 100 x 8    \n",
    "    \n",
    "    #reshape = Reshape((inputs.shape[1], 80000))(conv3)\n",
    "    #dense1 = TimeDistributed(Dense(100))(reshape)\n",
    "    #lstm1 = LSTM(100, return_sequences=True)(dense1)\n",
    "   \n",
    "    #decoder\n",
    "    #lstm2 = LSTM(100, return_sequences=True)(lstm1)\n",
    "    #dense2 = TimeDistributed(Dense(80000))(lstm2)\n",
    "    #reshape2 = Reshape((-1, 100, 100, 8))(dense2)\n",
    "    #conv4 = TimeDistributed(Conv2D(8, (3, 3), strides=(1,1), activation='relu', padding='same'))(reshape2) #100 x 100 x 8\n",
    "    #up1 = TimeDistributed(UpSampling2D((2,2)))(conv4) # 200 x 200 x 128\n",
    "    #conv5 = TimeDistributed(Conv2D(16, (3, 3), strides=(1,1), activation='relu', padding='same'))(up1) # 200 x 200 x 16\n",
    "    #up2 = TimeDistributed(UpSampling2D((2,2)))(conv5) # 400 x 400 x 16\n",
    "    #decoded = TimeDistributed(Conv2D(1, (3, 3), strides=(1,1), activation='relu', padding='same'))(up2) # 400 x 400 x 1\n",
    "    return decoded\n"
   ]
  },
  {
   "cell_type": "code",
   "execution_count": 17,
   "metadata": {
    "scrolled": true
   },
   "outputs": [
    {
     "name": "stdout",
     "output_type": "stream",
     "text": [
      "400\n",
      "(?, 20, 25, 25, 16)\n",
      "_________________________________________________________________\n",
      "Layer (type)                 Output Shape              Param #   \n",
      "=================================================================\n",
      "input_15 (InputLayer)        (None, 20, 400, 400, 1)   0         \n",
      "_________________________________________________________________\n",
      "time_distributed_26 (TimeDis (None, 20, 100, 100, 16)  1040      \n",
      "_________________________________________________________________\n",
      "time_distributed_27 (TimeDis (None, 20, 25, 25, 16)    0         \n",
      "_________________________________________________________________\n",
      "reshape_9 (Reshape)          (None, Dimension(20), 100 0         \n",
      "_________________________________________________________________\n",
      "time_distributed_28 (TimeDis (None, Dimension(20), 100 1000100   \n",
      "_________________________________________________________________\n",
      "lstm_7 (LSTM)                (None, Dimension(20), 100 80400     \n",
      "_________________________________________________________________\n",
      "lstm_8 (LSTM)                (None, Dimension(20), 100 80400     \n",
      "_________________________________________________________________\n",
      "time_distributed_29 (TimeDis (None, Dimension(20), 100 1010000   \n",
      "_________________________________________________________________\n",
      "reshape_10 (Reshape)         (None, 20, 100, 100, 1)   0         \n",
      "_________________________________________________________________\n",
      "time_distributed_30 (TimeDis (None, 20, 100, 100, 16)  1040      \n",
      "_________________________________________________________________\n",
      "time_distributed_31 (TimeDis (None, 20, 400, 400, 16)  0         \n",
      "_________________________________________________________________\n",
      "time_distributed_32 (TimeDis (None, 20, 400, 400, 1)   145       \n",
      "=================================================================\n",
      "Total params: 2,173,125\n",
      "Trainable params: 2,173,125\n",
      "Non-trainable params: 0\n",
      "_________________________________________________________________\n"
     ]
    }
   ],
   "source": [
    "import tensorflow as tf\n",
    "run_opts = tf.RunOptions(report_tensor_allocations_upon_oom = True)\n",
    "\n",
    "input_dims = (20, 400, 400, 1)\n",
    "inputs = Input(shape=input_dims)\n",
    "inputs2 = Input(shape=input_dims)\n",
    "batch_size = 32\n",
    "shuffle = True\n",
    "\n",
    "data = Data.get_data_paths(\"./calving\")\n",
    "data_generator = MyGenerator(data, batch_size=batch_size, dim=input_dims, shuffle=shuffle)\n",
    "print(inputs.shape[2])\n",
    "\n",
    "autoencoder = Model(inputs, get_autoencoder(inputs))\n",
    "autoencoder.compile(loss='mean_squared_error', optimizer = RMSprop(), options=run_opts) \n",
    "autoencoder.summary()\n",
    "\n",
    "\n",
    "\n"
   ]
  },
  {
   "cell_type": "code",
   "execution_count": null,
   "metadata": {
    "scrolled": true
   },
   "outputs": [
    {
     "name": "stdout",
     "output_type": "stream",
     "text": [
      "Epoch 1/1\n"
     ]
    }
   ],
   "source": [
    "autoencoder.fit_generator(generator=data_generator, max_queue_size=1)"
   ]
  },
  {
   "cell_type": "markdown",
   "metadata": {},
   "source": []
  }
 ],
 "metadata": {
  "kernelspec": {
   "display_name": "Python 3",
   "language": "python",
   "name": "python3"
  },
  "language_info": {
   "codemirror_mode": {
    "name": "ipython",
    "version": 3
   },
   "file_extension": ".py",
   "mimetype": "text/x-python",
   "name": "python",
   "nbconvert_exporter": "python",
   "pygments_lexer": "ipython3",
   "version": "3.7.0"
  }
 },
 "nbformat": 4,
 "nbformat_minor": 2
}
